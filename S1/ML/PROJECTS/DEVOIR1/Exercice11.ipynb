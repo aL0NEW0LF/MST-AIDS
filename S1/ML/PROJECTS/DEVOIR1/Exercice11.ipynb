{
 "cells": [
  {
   "cell_type": "code",
   "execution_count": 1,
   "id": "473f6c53-6b5c-4826-8599-98b95ac8f0f2",
   "metadata": {},
   "outputs": [],
   "source": [
    "from math import log\n",
    "import treePlotter as tpl\n",
    "import operator\n",
    "import pandas as pd\n",
    "import numpy as np\n",
    "import seaborn as sns\n",
    "\n",
    "def createDataSet():\n",
    "    dataSett = sns.load_dataset(\"iris\")\n",
    "    dataSettt = list(dataSett)\n",
    "    dataSettt.pop(4)\n",
    "    dataSet = dataSett.values.tolist()\n",
    "    return dataSet, dataSettt\n",
    "\n"
   ]
  },
  {
   "cell_type": "code",
   "execution_count": 2,
   "id": "70d0718d-c91d-47c4-bfbc-099b26b5054b",
   "metadata": {
    "scrolled": true
   },
   "outputs": [
    {
     "name": "stdout",
     "output_type": "stream",
     "text": [
      "['sepal_length', 'sepal_width', 'petal_length', 'petal_width']\n",
      "[[5.1, 3.5, 1.4, 0.2, 'setosa'], [4.9, 3.0, 1.4, 0.2, 'setosa'], [4.7, 3.2, 1.3, 0.2, 'setosa'], [4.6, 3.1, 1.5, 0.2, 'setosa'], [5.0, 3.6, 1.4, 0.2, 'setosa'], [5.4, 3.9, 1.7, 0.4, 'setosa'], [4.6, 3.4, 1.4, 0.3, 'setosa'], [5.0, 3.4, 1.5, 0.2, 'setosa'], [4.4, 2.9, 1.4, 0.2, 'setosa'], [4.9, 3.1, 1.5, 0.1, 'setosa'], [5.4, 3.7, 1.5, 0.2, 'setosa'], [4.8, 3.4, 1.6, 0.2, 'setosa'], [4.8, 3.0, 1.4, 0.1, 'setosa'], [4.3, 3.0, 1.1, 0.1, 'setosa'], [5.8, 4.0, 1.2, 0.2, 'setosa'], [5.7, 4.4, 1.5, 0.4, 'setosa'], [5.4, 3.9, 1.3, 0.4, 'setosa'], [5.1, 3.5, 1.4, 0.3, 'setosa'], [5.7, 3.8, 1.7, 0.3, 'setosa'], [5.1, 3.8, 1.5, 0.3, 'setosa'], [5.4, 3.4, 1.7, 0.2, 'setosa'], [5.1, 3.7, 1.5, 0.4, 'setosa'], [4.6, 3.6, 1.0, 0.2, 'setosa'], [5.1, 3.3, 1.7, 0.5, 'setosa'], [4.8, 3.4, 1.9, 0.2, 'setosa'], [5.0, 3.0, 1.6, 0.2, 'setosa'], [5.0, 3.4, 1.6, 0.4, 'setosa'], [5.2, 3.5, 1.5, 0.2, 'setosa'], [5.2, 3.4, 1.4, 0.2, 'setosa'], [4.7, 3.2, 1.6, 0.2, 'setosa'], [4.8, 3.1, 1.6, 0.2, 'setosa'], [5.4, 3.4, 1.5, 0.4, 'setosa'], [5.2, 4.1, 1.5, 0.1, 'setosa'], [5.5, 4.2, 1.4, 0.2, 'setosa'], [4.9, 3.1, 1.5, 0.2, 'setosa'], [5.0, 3.2, 1.2, 0.2, 'setosa'], [5.5, 3.5, 1.3, 0.2, 'setosa'], [4.9, 3.6, 1.4, 0.1, 'setosa'], [4.4, 3.0, 1.3, 0.2, 'setosa'], [5.1, 3.4, 1.5, 0.2, 'setosa'], [5.0, 3.5, 1.3, 0.3, 'setosa'], [4.5, 2.3, 1.3, 0.3, 'setosa'], [4.4, 3.2, 1.3, 0.2, 'setosa'], [5.0, 3.5, 1.6, 0.6, 'setosa'], [5.1, 3.8, 1.9, 0.4, 'setosa'], [4.8, 3.0, 1.4, 0.3, 'setosa'], [5.1, 3.8, 1.6, 0.2, 'setosa'], [4.6, 3.2, 1.4, 0.2, 'setosa'], [5.3, 3.7, 1.5, 0.2, 'setosa'], [5.0, 3.3, 1.4, 0.2, 'setosa'], [7.0, 3.2, 4.7, 1.4, 'versicolor'], [6.4, 3.2, 4.5, 1.5, 'versicolor'], [6.9, 3.1, 4.9, 1.5, 'versicolor'], [5.5, 2.3, 4.0, 1.3, 'versicolor'], [6.5, 2.8, 4.6, 1.5, 'versicolor'], [5.7, 2.8, 4.5, 1.3, 'versicolor'], [6.3, 3.3, 4.7, 1.6, 'versicolor'], [4.9, 2.4, 3.3, 1.0, 'versicolor'], [6.6, 2.9, 4.6, 1.3, 'versicolor'], [5.2, 2.7, 3.9, 1.4, 'versicolor'], [5.0, 2.0, 3.5, 1.0, 'versicolor'], [5.9, 3.0, 4.2, 1.5, 'versicolor'], [6.0, 2.2, 4.0, 1.0, 'versicolor'], [6.1, 2.9, 4.7, 1.4, 'versicolor'], [5.6, 2.9, 3.6, 1.3, 'versicolor'], [6.7, 3.1, 4.4, 1.4, 'versicolor'], [5.6, 3.0, 4.5, 1.5, 'versicolor'], [5.8, 2.7, 4.1, 1.0, 'versicolor'], [6.2, 2.2, 4.5, 1.5, 'versicolor'], [5.6, 2.5, 3.9, 1.1, 'versicolor'], [5.9, 3.2, 4.8, 1.8, 'versicolor'], [6.1, 2.8, 4.0, 1.3, 'versicolor'], [6.3, 2.5, 4.9, 1.5, 'versicolor'], [6.1, 2.8, 4.7, 1.2, 'versicolor'], [6.4, 2.9, 4.3, 1.3, 'versicolor'], [6.6, 3.0, 4.4, 1.4, 'versicolor'], [6.8, 2.8, 4.8, 1.4, 'versicolor'], [6.7, 3.0, 5.0, 1.7, 'versicolor'], [6.0, 2.9, 4.5, 1.5, 'versicolor'], [5.7, 2.6, 3.5, 1.0, 'versicolor'], [5.5, 2.4, 3.8, 1.1, 'versicolor'], [5.5, 2.4, 3.7, 1.0, 'versicolor'], [5.8, 2.7, 3.9, 1.2, 'versicolor'], [6.0, 2.7, 5.1, 1.6, 'versicolor'], [5.4, 3.0, 4.5, 1.5, 'versicolor'], [6.0, 3.4, 4.5, 1.6, 'versicolor'], [6.7, 3.1, 4.7, 1.5, 'versicolor'], [6.3, 2.3, 4.4, 1.3, 'versicolor'], [5.6, 3.0, 4.1, 1.3, 'versicolor'], [5.5, 2.5, 4.0, 1.3, 'versicolor'], [5.5, 2.6, 4.4, 1.2, 'versicolor'], [6.1, 3.0, 4.6, 1.4, 'versicolor'], [5.8, 2.6, 4.0, 1.2, 'versicolor'], [5.0, 2.3, 3.3, 1.0, 'versicolor'], [5.6, 2.7, 4.2, 1.3, 'versicolor'], [5.7, 3.0, 4.2, 1.2, 'versicolor'], [5.7, 2.9, 4.2, 1.3, 'versicolor'], [6.2, 2.9, 4.3, 1.3, 'versicolor'], [5.1, 2.5, 3.0, 1.1, 'versicolor'], [5.7, 2.8, 4.1, 1.3, 'versicolor'], [6.3, 3.3, 6.0, 2.5, 'virginica'], [5.8, 2.7, 5.1, 1.9, 'virginica'], [7.1, 3.0, 5.9, 2.1, 'virginica'], [6.3, 2.9, 5.6, 1.8, 'virginica'], [6.5, 3.0, 5.8, 2.2, 'virginica'], [7.6, 3.0, 6.6, 2.1, 'virginica'], [4.9, 2.5, 4.5, 1.7, 'virginica'], [7.3, 2.9, 6.3, 1.8, 'virginica'], [6.7, 2.5, 5.8, 1.8, 'virginica'], [7.2, 3.6, 6.1, 2.5, 'virginica'], [6.5, 3.2, 5.1, 2.0, 'virginica'], [6.4, 2.7, 5.3, 1.9, 'virginica'], [6.8, 3.0, 5.5, 2.1, 'virginica'], [5.7, 2.5, 5.0, 2.0, 'virginica'], [5.8, 2.8, 5.1, 2.4, 'virginica'], [6.4, 3.2, 5.3, 2.3, 'virginica'], [6.5, 3.0, 5.5, 1.8, 'virginica'], [7.7, 3.8, 6.7, 2.2, 'virginica'], [7.7, 2.6, 6.9, 2.3, 'virginica'], [6.0, 2.2, 5.0, 1.5, 'virginica'], [6.9, 3.2, 5.7, 2.3, 'virginica'], [5.6, 2.8, 4.9, 2.0, 'virginica'], [7.7, 2.8, 6.7, 2.0, 'virginica'], [6.3, 2.7, 4.9, 1.8, 'virginica'], [6.7, 3.3, 5.7, 2.1, 'virginica'], [7.2, 3.2, 6.0, 1.8, 'virginica'], [6.2, 2.8, 4.8, 1.8, 'virginica'], [6.1, 3.0, 4.9, 1.8, 'virginica'], [6.4, 2.8, 5.6, 2.1, 'virginica'], [7.2, 3.0, 5.8, 1.6, 'virginica'], [7.4, 2.8, 6.1, 1.9, 'virginica'], [7.9, 3.8, 6.4, 2.0, 'virginica'], [6.4, 2.8, 5.6, 2.2, 'virginica'], [6.3, 2.8, 5.1, 1.5, 'virginica'], [6.1, 2.6, 5.6, 1.4, 'virginica'], [7.7, 3.0, 6.1, 2.3, 'virginica'], [6.3, 3.4, 5.6, 2.4, 'virginica'], [6.4, 3.1, 5.5, 1.8, 'virginica'], [6.0, 3.0, 4.8, 1.8, 'virginica'], [6.9, 3.1, 5.4, 2.1, 'virginica'], [6.7, 3.1, 5.6, 2.4, 'virginica'], [6.9, 3.1, 5.1, 2.3, 'virginica'], [5.8, 2.7, 5.1, 1.9, 'virginica'], [6.8, 3.2, 5.9, 2.3, 'virginica'], [6.7, 3.3, 5.7, 2.5, 'virginica'], [6.7, 3.0, 5.2, 2.3, 'virginica'], [6.3, 2.5, 5.0, 1.9, 'virginica'], [6.5, 3.0, 5.2, 2.0, 'virginica'], [6.2, 3.4, 5.4, 2.3, 'virginica'], [5.9, 3.0, 5.1, 1.8, 'virginica']]\n"
     ]
    }
   ],
   "source": [
    "a,b=createDataSet()\n",
    "print(b)\n",
    "print(a)"
   ]
  },
  {
   "cell_type": "code",
   "execution_count": 3,
   "id": "2363aa4d-dcca-48e8-81ec-fe1541dd9d07",
   "metadata": {},
   "outputs": [],
   "source": [
    "def calcShannonEnt(dataSet):\n",
    "    numEntries = len(dataSet)\n",
    "    labelCounts = {}\n",
    "    for featVec in dataSet: # Le nombre d'occurrences pour chaque␣attribut\n",
    "        currentLabel = featVec[-1]\n",
    "        if currentLabel not in labelCounts.keys():\n",
    "            labelCounts[currentLabel] = 0\n",
    "        labelCounts[currentLabel] += 1\n",
    "    shannonEnt = 0.0\n",
    "    for key in labelCounts:\n",
    "         prob = float(labelCounts[key])/numEntries\n",
    "         shannonEnt -= prob * log(prob,2) # log base 2\n",
    "    return shannonEnt"
   ]
  },
  {
   "cell_type": "code",
   "execution_count": 4,
   "id": "d48afe76-4011-4ead-bce2-cab05188ec6b",
   "metadata": {},
   "outputs": [
    {
     "name": "stdout",
     "output_type": "stream",
     "text": [
      "1.584962500721156\n"
     ]
    }
   ],
   "source": [
    "shan = calcShannonEnt(a)\n",
    "print(shan)"
   ]
  },
  {
   "cell_type": "code",
   "execution_count": 5,
   "id": "06185a5e-4628-40f9-8d16-6ddd1957c52d",
   "metadata": {},
   "outputs": [],
   "source": [
    "def splitDataSet(dataSet, axis, value):\n",
    "    retDataSet = []\n",
    "    for featVec in dataSet:\n",
    "        if featVec[axis] == value:\n",
    "            reducedFeatVec = featVec[:axis]\n",
    "            reducedFeatVec.extend(featVec[axis+1:])\n",
    "            retDataSet.append(reducedFeatVec)\n",
    "    return retDataSet"
   ]
  },
  {
   "cell_type": "code",
   "execution_count": 6,
   "id": "3ccd11cf-a533-4587-8610-bf38c7a20f18",
   "metadata": {},
   "outputs": [
    {
     "name": "stdout",
     "output_type": "stream",
     "text": [
      "5 [[3.4, 1.6, 0.2, 'setosa'], [3.0, 1.4, 0.1, 'setosa'], [3.4, 1.9, 0.2, 'setosa'], [3.1, 1.6, 0.2, 'setosa'], [3.0, 1.4, 0.3, 'setosa']]\n"
     ]
    }
   ],
   "source": [
    "c = splitDataSet(a,0,4.8)\n",
    "print(len(c),c)"
   ]
  },
  {
   "cell_type": "code",
   "execution_count": 7,
   "id": "4aa1afd7-4d89-4b30-8e81-7631b506d1de",
   "metadata": {},
   "outputs": [
    {
     "data": {
      "text/plain": "[[3.4, 1.6, 'setosa'], [3.4, 1.9, 'setosa'], [3.1, 1.6, 'setosa']]"
     },
     "execution_count": 7,
     "metadata": {},
     "output_type": "execute_result"
    }
   ],
   "source": [
    "splitDataSet(c,2,0.2)"
   ]
  },
  {
   "cell_type": "code",
   "execution_count": 8,
   "id": "d2f842c9-691b-4196-9db3-75fbdc8e81d5",
   "metadata": {},
   "outputs": [],
   "source": [
    "def trierDataSet(dataset, index):\n",
    "    a_sorted = sorted(a, key=lambda x: x[index])\n",
    "    return a_sorted"
   ]
  },
  {
   "cell_type": "code",
   "execution_count": 9,
   "id": "b0f95ba1-d99d-4d7e-b442-626af7c4c54a",
   "metadata": {},
   "outputs": [
    {
     "name": "stdout",
     "output_type": "stream",
     "text": [
      "[[4.3, 3.0, 1.1, 0.1, 'setosa'], [4.4, 2.9, 1.4, 0.2, 'setosa'], [4.4, 3.0, 1.3, 0.2, 'setosa'], [4.4, 3.2, 1.3, 0.2, 'setosa'], [4.5, 2.3, 1.3, 0.3, 'setosa'], [4.6, 3.1, 1.5, 0.2, 'setosa'], [4.6, 3.4, 1.4, 0.3, 'setosa'], [4.6, 3.6, 1.0, 0.2, 'setosa'], [4.6, 3.2, 1.4, 0.2, 'setosa'], [4.7, 3.2, 1.3, 0.2, 'setosa'], [4.7, 3.2, 1.6, 0.2, 'setosa'], [4.8, 3.4, 1.6, 0.2, 'setosa'], [4.8, 3.0, 1.4, 0.1, 'setosa'], [4.8, 3.4, 1.9, 0.2, 'setosa'], [4.8, 3.1, 1.6, 0.2, 'setosa'], [4.8, 3.0, 1.4, 0.3, 'setosa'], [4.9, 3.0, 1.4, 0.2, 'setosa'], [4.9, 3.1, 1.5, 0.1, 'setosa'], [4.9, 3.1, 1.5, 0.2, 'setosa'], [4.9, 3.6, 1.4, 0.1, 'setosa'], [4.9, 2.4, 3.3, 1.0, 'versicolor'], [4.9, 2.5, 4.5, 1.7, 'virginica'], [5.0, 3.6, 1.4, 0.2, 'setosa'], [5.0, 3.4, 1.5, 0.2, 'setosa'], [5.0, 3.0, 1.6, 0.2, 'setosa'], [5.0, 3.4, 1.6, 0.4, 'setosa'], [5.0, 3.2, 1.2, 0.2, 'setosa'], [5.0, 3.5, 1.3, 0.3, 'setosa'], [5.0, 3.5, 1.6, 0.6, 'setosa'], [5.0, 3.3, 1.4, 0.2, 'setosa'], [5.0, 2.0, 3.5, 1.0, 'versicolor'], [5.0, 2.3, 3.3, 1.0, 'versicolor'], [5.1, 3.5, 1.4, 0.2, 'setosa'], [5.1, 3.5, 1.4, 0.3, 'setosa'], [5.1, 3.8, 1.5, 0.3, 'setosa'], [5.1, 3.7, 1.5, 0.4, 'setosa'], [5.1, 3.3, 1.7, 0.5, 'setosa'], [5.1, 3.4, 1.5, 0.2, 'setosa'], [5.1, 3.8, 1.9, 0.4, 'setosa'], [5.1, 3.8, 1.6, 0.2, 'setosa'], [5.1, 2.5, 3.0, 1.1, 'versicolor'], [5.2, 3.5, 1.5, 0.2, 'setosa'], [5.2, 3.4, 1.4, 0.2, 'setosa'], [5.2, 4.1, 1.5, 0.1, 'setosa'], [5.2, 2.7, 3.9, 1.4, 'versicolor'], [5.3, 3.7, 1.5, 0.2, 'setosa'], [5.4, 3.9, 1.7, 0.4, 'setosa'], [5.4, 3.7, 1.5, 0.2, 'setosa'], [5.4, 3.9, 1.3, 0.4, 'setosa'], [5.4, 3.4, 1.7, 0.2, 'setosa'], [5.4, 3.4, 1.5, 0.4, 'setosa'], [5.4, 3.0, 4.5, 1.5, 'versicolor'], [5.5, 4.2, 1.4, 0.2, 'setosa'], [5.5, 3.5, 1.3, 0.2, 'setosa'], [5.5, 2.3, 4.0, 1.3, 'versicolor'], [5.5, 2.4, 3.8, 1.1, 'versicolor'], [5.5, 2.4, 3.7, 1.0, 'versicolor'], [5.5, 2.5, 4.0, 1.3, 'versicolor'], [5.5, 2.6, 4.4, 1.2, 'versicolor'], [5.6, 2.9, 3.6, 1.3, 'versicolor'], [5.6, 3.0, 4.5, 1.5, 'versicolor'], [5.6, 2.5, 3.9, 1.1, 'versicolor'], [5.6, 3.0, 4.1, 1.3, 'versicolor'], [5.6, 2.7, 4.2, 1.3, 'versicolor'], [5.6, 2.8, 4.9, 2.0, 'virginica'], [5.7, 4.4, 1.5, 0.4, 'setosa'], [5.7, 3.8, 1.7, 0.3, 'setosa'], [5.7, 2.8, 4.5, 1.3, 'versicolor'], [5.7, 2.6, 3.5, 1.0, 'versicolor'], [5.7, 3.0, 4.2, 1.2, 'versicolor'], [5.7, 2.9, 4.2, 1.3, 'versicolor'], [5.7, 2.8, 4.1, 1.3, 'versicolor'], [5.7, 2.5, 5.0, 2.0, 'virginica'], [5.8, 4.0, 1.2, 0.2, 'setosa'], [5.8, 2.7, 4.1, 1.0, 'versicolor'], [5.8, 2.7, 3.9, 1.2, 'versicolor'], [5.8, 2.6, 4.0, 1.2, 'versicolor'], [5.8, 2.7, 5.1, 1.9, 'virginica'], [5.8, 2.8, 5.1, 2.4, 'virginica'], [5.8, 2.7, 5.1, 1.9, 'virginica'], [5.9, 3.0, 4.2, 1.5, 'versicolor'], [5.9, 3.2, 4.8, 1.8, 'versicolor'], [5.9, 3.0, 5.1, 1.8, 'virginica'], [6.0, 2.2, 4.0, 1.0, 'versicolor'], [6.0, 2.9, 4.5, 1.5, 'versicolor'], [6.0, 2.7, 5.1, 1.6, 'versicolor'], [6.0, 3.4, 4.5, 1.6, 'versicolor'], [6.0, 2.2, 5.0, 1.5, 'virginica'], [6.0, 3.0, 4.8, 1.8, 'virginica'], [6.1, 2.9, 4.7, 1.4, 'versicolor'], [6.1, 2.8, 4.0, 1.3, 'versicolor'], [6.1, 2.8, 4.7, 1.2, 'versicolor'], [6.1, 3.0, 4.6, 1.4, 'versicolor'], [6.1, 3.0, 4.9, 1.8, 'virginica'], [6.1, 2.6, 5.6, 1.4, 'virginica'], [6.2, 2.2, 4.5, 1.5, 'versicolor'], [6.2, 2.9, 4.3, 1.3, 'versicolor'], [6.2, 2.8, 4.8, 1.8, 'virginica'], [6.2, 3.4, 5.4, 2.3, 'virginica'], [6.3, 3.3, 4.7, 1.6, 'versicolor'], [6.3, 2.5, 4.9, 1.5, 'versicolor'], [6.3, 2.3, 4.4, 1.3, 'versicolor'], [6.3, 3.3, 6.0, 2.5, 'virginica'], [6.3, 2.9, 5.6, 1.8, 'virginica'], [6.3, 2.7, 4.9, 1.8, 'virginica'], [6.3, 2.8, 5.1, 1.5, 'virginica'], [6.3, 3.4, 5.6, 2.4, 'virginica'], [6.3, 2.5, 5.0, 1.9, 'virginica'], [6.4, 3.2, 4.5, 1.5, 'versicolor'], [6.4, 2.9, 4.3, 1.3, 'versicolor'], [6.4, 2.7, 5.3, 1.9, 'virginica'], [6.4, 3.2, 5.3, 2.3, 'virginica'], [6.4, 2.8, 5.6, 2.1, 'virginica'], [6.4, 2.8, 5.6, 2.2, 'virginica'], [6.4, 3.1, 5.5, 1.8, 'virginica'], [6.5, 2.8, 4.6, 1.5, 'versicolor'], [6.5, 3.0, 5.8, 2.2, 'virginica'], [6.5, 3.2, 5.1, 2.0, 'virginica'], [6.5, 3.0, 5.5, 1.8, 'virginica'], [6.5, 3.0, 5.2, 2.0, 'virginica'], [6.6, 2.9, 4.6, 1.3, 'versicolor'], [6.6, 3.0, 4.4, 1.4, 'versicolor'], [6.7, 3.1, 4.4, 1.4, 'versicolor'], [6.7, 3.0, 5.0, 1.7, 'versicolor'], [6.7, 3.1, 4.7, 1.5, 'versicolor'], [6.7, 2.5, 5.8, 1.8, 'virginica'], [6.7, 3.3, 5.7, 2.1, 'virginica'], [6.7, 3.1, 5.6, 2.4, 'virginica'], [6.7, 3.3, 5.7, 2.5, 'virginica'], [6.7, 3.0, 5.2, 2.3, 'virginica'], [6.8, 2.8, 4.8, 1.4, 'versicolor'], [6.8, 3.0, 5.5, 2.1, 'virginica'], [6.8, 3.2, 5.9, 2.3, 'virginica'], [6.9, 3.1, 4.9, 1.5, 'versicolor'], [6.9, 3.2, 5.7, 2.3, 'virginica'], [6.9, 3.1, 5.4, 2.1, 'virginica'], [6.9, 3.1, 5.1, 2.3, 'virginica'], [7.0, 3.2, 4.7, 1.4, 'versicolor'], [7.1, 3.0, 5.9, 2.1, 'virginica'], [7.2, 3.6, 6.1, 2.5, 'virginica'], [7.2, 3.2, 6.0, 1.8, 'virginica'], [7.2, 3.0, 5.8, 1.6, 'virginica'], [7.3, 2.9, 6.3, 1.8, 'virginica'], [7.4, 2.8, 6.1, 1.9, 'virginica'], [7.6, 3.0, 6.6, 2.1, 'virginica'], [7.7, 3.8, 6.7, 2.2, 'virginica'], [7.7, 2.6, 6.9, 2.3, 'virginica'], [7.7, 2.8, 6.7, 2.0, 'virginica'], [7.7, 3.0, 6.1, 2.3, 'virginica'], [7.9, 3.8, 6.4, 2.0, 'virginica']]\n"
     ]
    }
   ],
   "source": [
    "a0trié = trierDataSet(a,0)\n",
    "a1trié = trierDataSet(a,1)\n",
    "a2trié = trierDataSet(a,2)\n",
    "a3trié = trierDataSet(a,3)\n",
    "print(a0trié)"
   ]
  },
  {
   "cell_type": "code",
   "execution_count": 10,
   "id": "be262bdf-d60f-4074-bd5f-b75cbb5864d0",
   "metadata": {},
   "outputs": [],
   "source": [
    "def trouverSeuils(dataset, index):\n",
    "    seuil = 0\n",
    "    precedent_number = dataset[0][index]\n",
    "    last_class = dataset[0][-1]\n",
    "    x = 1\n",
    "    Seuils = {}\n",
    "    for row in dataset :\n",
    "        current_class = row[-1]\n",
    "        if current_class != last_class:\n",
    "            seuil = (row[index] + precedent_number) / 2\n",
    "            Seuils[f'Seuil{x}'] = seuil\n",
    "            x += 1\n",
    "        precedent_number = row[index]\n",
    "        last_class = current_class\n",
    "    return Seuils"
   ]
  },
  {
   "cell_type": "code",
   "execution_count": 11,
   "id": "8d1cbac6-fe5f-4b63-a0e9-475bceed1453",
   "metadata": {
    "scrolled": true
   },
   "outputs": [
    {
     "name": "stdout",
     "output_type": "stream",
     "text": [
      "{'Seuil1': 4.9, 'Seuil2': 4.9, 'Seuil3': 4.95, 'Seuil4': 5.0, 'Seuil5': 5.05, 'Seuil6': 5.1, 'Seuil7': 5.15, 'Seuil8': 5.2, 'Seuil9': 5.25, 'Seuil10': 5.4, 'Seuil11': 5.45, 'Seuil12': 5.5, 'Seuil13': 5.6, 'Seuil14': 5.65, 'Seuil15': 5.7, 'Seuil16': 5.7, 'Seuil17': 5.75, 'Seuil18': 5.8, 'Seuil19': 5.8, 'Seuil20': 5.85, 'Seuil21': 5.9, 'Seuil22': 5.95, 'Seuil23': 6.0, 'Seuil24': 6.05, 'Seuil25': 6.1, 'Seuil26': 6.15, 'Seuil27': 6.2, 'Seuil28': 6.25, 'Seuil29': 6.3, 'Seuil30': 6.35, 'Seuil31': 6.4, 'Seuil32': 6.45, 'Seuil33': 6.5, 'Seuil34': 6.55, 'Seuil35': 6.7, 'Seuil36': 6.75, 'Seuil37': 6.8, 'Seuil38': 6.85, 'Seuil39': 6.9, 'Seuil40': 6.95, 'Seuil41': 7.05}\n"
     ]
    }
   ],
   "source": [
    "SeuilsSepalLength = trouverSeuils(a0trié,0)\n",
    "SeuilsSepalWidth =  trouverSeuils(a1trié,1)\n",
    "SeuilsPetalLength = trouverSeuils(a2trié,2)\n",
    "SeuilsPetalWidth = trouverSeuils(a3trié,3)\n",
    "print(SeuilsSepalLength)\n"
   ]
  },
  {
   "cell_type": "code",
   "execution_count": 12,
   "id": "9c5a0a91-af7a-4985-828d-d5ab9faf22f9",
   "metadata": {},
   "outputs": [],
   "source": [
    "def splitDataSeuil(dataset, dict, index) :\n",
    "    dict_seuils_separes_gauche = {}\n",
    "    dict_seuils_separes_droite = {}\n",
    "    for x,y in dict.items() :\n",
    "        dict_seuils_separes_gauche[x] = [i for i in dataset if i[index] < y]\n",
    "        dict_seuils_separes_droite[x] = [i for i in dataset if i[index] >= y]\n",
    "    return dict_seuils_separes_gauche, dict_seuils_separes_droite"
   ]
  },
  {
   "cell_type": "code",
   "execution_count": 13,
   "id": "b0712a91-6c98-4fef-9635-3b69a313f60b",
   "metadata": {},
   "outputs": [],
   "source": [
    "left_inferiora0, right_sup_or_eqa0 = splitDataSeuil(a0trié,SeuilsSepalLength, 0)\n",
    "left_inferiora1, right_sup_or_eqa1 = splitDataSeuil(a0trié,SeuilsSepalWidth, 1)\n",
    "left_inferiora2, right_sup_or_eqa2 = splitDataSeuil(a0trié,SeuilsPetalLength, 2)\n",
    "left_inferiora3, right_sup_or_eqa3 = splitDataSeuil(a0trié,SeuilsPetalWidth, 3)\n"
   ]
  },
  {
   "cell_type": "code",
   "execution_count": 14,
   "id": "cb49b76c-bee0-434d-a53e-efa406858b74",
   "metadata": {},
   "outputs": [],
   "source": [
    "def calculateEntrSub(dict) :\n",
    "    seuils_entropie = {}\n",
    "    for x,y in dict.items() :\n",
    "        list_classe = [0, 0, 0]\n",
    "        for i in y :\n",
    "            if i[-1] == 'setosa' : \n",
    "                list_classe[0] += 1\n",
    "            elif i[-1] == 'versicolor' :\n",
    "                list_classe[1] += 1\n",
    "            elif i[-1] == 'virginica' :\n",
    "                list_classe[2] += 1\n",
    "        seuils_entropie[x] = list_classe\n",
    "    return seuils_entropie\n",
    "            "
   ]
  },
  {
   "cell_type": "code",
   "execution_count": 15,
   "id": "2232991c-15a4-46e4-aa53-d4daca51c4ab",
   "metadata": {},
   "outputs": [
    {
     "name": "stdout",
     "output_type": "stream",
     "text": [
      "{'Seuil1': [34, 50, 50], 'Seuil2': [34, 50, 50], 'Seuil3': [30, 49, 49], 'Seuil4': [30, 49, 49], 'Seuil5': [22, 47, 49], 'Seuil6': [22, 47, 49], 'Seuil7': [14, 46, 49], 'Seuil8': [14, 46, 49], 'Seuil9': [11, 45, 49], 'Seuil10': [10, 45, 49], 'Seuil11': [5, 44, 49], 'Seuil12': [5, 44, 49], 'Seuil13': [3, 39, 49], 'Seuil14': [3, 34, 48], 'Seuil15': [3, 34, 48], 'Seuil16': [3, 34, 48], 'Seuil17': [1, 29, 47], 'Seuil18': [1, 29, 47], 'Seuil19': [1, 29, 47], 'Seuil20': [0, 26, 44], 'Seuil21': [0, 26, 44], 'Seuil22': [0, 24, 43], 'Seuil23': [0, 24, 43], 'Seuil24': [0, 20, 41], 'Seuil25': [0, 20, 41], 'Seuil26': [0, 16, 39], 'Seuil27': [0, 16, 39], 'Seuil28': [0, 14, 37], 'Seuil29': [0, 14, 37], 'Seuil30': [0, 11, 31], 'Seuil31': [0, 11, 31], 'Seuil32': [0, 9, 26], 'Seuil33': [0, 9, 26], 'Seuil34': [0, 8, 22], 'Seuil35': [0, 6, 22], 'Seuil36': [0, 3, 17], 'Seuil37': [0, 3, 17], 'Seuil38': [0, 2, 15], 'Seuil39': [0, 2, 15], 'Seuil40': [0, 1, 12], 'Seuil41': [0, 0, 12]}\n"
     ]
    }
   ],
   "source": [
    "classesLefta0 = calculateEntrSub(left_inferiora0)\n",
    "classesRighta0 = calculateEntrSub(right_sup_or_eqa0)\n",
    "classesLefta1 = calculateEntrSub(left_inferiora1)\n",
    "classesRighta1 = calculateEntrSub(right_sup_or_eqa1)\n",
    "classesLefta2 = calculateEntrSub(left_inferiora2)\n",
    "classesRighta2 = calculateEntrSub(right_sup_or_eqa2)\n",
    "classesLefta3 = calculateEntrSub(left_inferiora3)\n",
    "classesRighta3 = calculateEntrSub(right_sup_or_eqa3)\n",
    "print(classesRighta0)"
   ]
  },
  {
   "cell_type": "code",
   "execution_count": 16,
   "id": "0d1f1c02-60fa-459a-b322-6766bdb8396d",
   "metadata": {},
   "outputs": [],
   "source": [
    "def calculateGainSeuil(left,right,leftClasses,rightClasses,index) :\n",
    "    gainInfo = 0.0\n",
    "    seuils_rappGain = {}\n",
    "    for (x,y),(a,b),(c,d),(e,f) in zip(left.items(),right.items(),leftClasses.items(),rightClasses.items()) :\n",
    "        for i,j in zip(y,b) :\n",
    "            if d[0] > 0:\n",
    "                term1 = (d[0] / len(y)) * log(d[0] / len(y), 2)\n",
    "            else:\n",
    "                term1 = 0.0\n",
    "\n",
    "            if d[1] > 0:\n",
    "                term2 = (d[1] / len(y)) * log(d[1] / len(y), 2)\n",
    "            else:\n",
    "                term2 = 0.0\n",
    "\n",
    "            if d[2] > 0:\n",
    "                term3 = (d[2] / len(y)) * log(d[2] / len(y), 2)\n",
    "            else:\n",
    "                term3 = 0.0\n",
    "\n",
    "            if f[0] > 0:\n",
    "                term4 = (f[0] / len(b)) * log(f[0] / len(b), 2)\n",
    "            else:\n",
    "                term4 = 0.0\n",
    "\n",
    "            if f[1] > 0:\n",
    "                term5 = (f[1] / len(b)) * log(f[1] / len(b), 2)\n",
    "            else:\n",
    "                term5 = 0.0\n",
    "\n",
    "            if f[2] > 0:\n",
    "                term6 = (f[2] / len(b)) * log(f[2] / len(b), 2)\n",
    "            else:\n",
    "                term6 = 0.0\n",
    "\n",
    "            gainInfo = shan - ((len(y) / 150) * (term1 + term2 + term3) + (len(b) / 150) * (term4 + term5 + term6))\n",
    "            infoIntr = -((len(y) / 150) * log(len(y) / 150, 2) + (len(b) / 150) * log(len(b) / 150, 2))\n",
    "\n",
    "            # Avoid division by zero\n",
    "            if infoIntr != 0:\n",
    "                rappGain = gainInfo / infoIntr\n",
    "                seuils_rappGain[x] = rappGain\n",
    "    return seuils_rappGain\n",
    "    \n",
    "    \n"
   ]
  },
  {
   "cell_type": "code",
   "execution_count": 17,
   "id": "4a220cfa-811e-4a5a-a7e7-43a57f42e49c",
   "metadata": {},
   "outputs": [
    {
     "name": "stdout",
     "output_type": "stream",
     "text": [
      "{'Seuil1': 2.4519649157574377, 'Seuil2': 2.5038325570823226, 'Seuil3': 2.566375004461108, 'Seuil4': 2.566375004461108, 'Seuil5': 2.6897950542501525, 'Seuil6': 2.6897950542501525, 'Seuil7': 2.7426118875253636, 'Seuil8': 2.7426118875253636, 'Seuil9': 2.7933753003911828, 'Seuil10': 2.7933753003911828}\n"
     ]
    }
   ],
   "source": [
    "gainseuil = calculateGainSeuil(left_inferiora3,right_sup_or_eqa3,classesLefta3,classesRighta3,3)\n",
    "print(gainseuil)"
   ]
  },
  {
   "cell_type": "code",
   "execution_count": 18,
   "id": "ebe88db7-62b1-4dff-987e-d816c68ba492",
   "metadata": {},
   "outputs": [
    {
     "data": {
      "text/plain": "2.7933753003911828"
     },
     "execution_count": 18,
     "metadata": {},
     "output_type": "execute_result"
    }
   ],
   "source": [
    "max(gainseuil.values())"
   ]
  },
  {
   "cell_type": "code",
   "execution_count": 19,
   "id": "1f734e1b-746d-4bc9-b88b-3d8b2d648388",
   "metadata": {},
   "outputs": [],
   "source": [
    "def bestFeaturetoSplit(dataSet) :\n",
    "    numFeatures = len(dataSet[0]) - 1\n",
    "    bestRappGain = 0.0; bestFeature = -1\n",
    "    for i in range(numFeatures) :\n",
    "        featuretrié = trierDataSet(dataSet,i)\n",
    "        seuilsfeature = trouverSeuils(featuretrié,i)\n",
    "        seuilsfeatureinf,seuilsfeaturesupEg = splitDataSeuil(featuretrié,seuilsfeature,i)\n",
    "        classesSeuilsfeatureinf = calculateEntrSub(seuilsfeatureinf)\n",
    "        classesSeuilsfeaturesupEg = calculateEntrSub(seuilsfeaturesupEg)\n",
    "        gainSeuilsfeature= calculateGainSeuil(seuilsfeatureinf,seuilsfeaturesupEg,classesSeuilsfeatureinf,classesSeuilsfeaturesupEg,i)\n",
    "        maxGainSeuilsfeature = max(gainSeuilsfeature.values())\n",
    "        rappGain = maxGainSeuilsfeature\n",
    "        if (rappGain > bestRappGain):\n",
    "            bestRappGain = rappGain\n",
    "            bestFeature = i\n",
    "    return bestFeature"
   ]
  },
  {
   "cell_type": "code",
   "execution_count": 20,
   "id": "94dc7bb8-d094-4237-80c8-fd62e3c339f8",
   "metadata": {},
   "outputs": [
    {
     "data": {
      "text/plain": "1"
     },
     "execution_count": 20,
     "metadata": {},
     "output_type": "execute_result"
    }
   ],
   "source": [
    "bestFeaturetoSplit(a)"
   ]
  },
  {
   "cell_type": "code",
   "execution_count": 21,
   "id": "377ffcd4-12d5-4242-b464-9a99ff7449a5",
   "metadata": {},
   "outputs": [
    {
     "data": {
      "text/plain": "[[3.4, 1.6, 0.2, 'setosa'],\n [3.0, 1.4, 0.1, 'setosa'],\n [3.4, 1.9, 0.2, 'setosa'],\n [3.1, 1.6, 0.2, 'setosa'],\n [3.0, 1.4, 0.3, 'setosa']]"
     },
     "execution_count": 21,
     "metadata": {},
     "output_type": "execute_result"
    }
   ],
   "source": [
    "c"
   ]
  },
  {
   "cell_type": "code",
   "execution_count": 22,
   "id": "a57c459c-3385-43b2-9588-9ce1c9a5871a",
   "metadata": {},
   "outputs": [
    {
     "data": {
      "text/plain": "1"
     },
     "execution_count": 22,
     "metadata": {},
     "output_type": "execute_result"
    }
   ],
   "source": [
    "bestFeaturetoSplit(c)"
   ]
  },
  {
   "cell_type": "code",
   "execution_count": 23,
   "id": "c7a4d6b9-ecfe-409d-a7ed-95b487422db4",
   "metadata": {},
   "outputs": [
    {
     "data": {
      "text/plain": "'setosa'"
     },
     "execution_count": 23,
     "metadata": {},
     "output_type": "execute_result"
    }
   ],
   "source": [
    "def majorityCnt(classList): \n",
    "    classCount={}\n",
    "    for vote in classList:\n",
    "        if vote not in classCount.keys():\n",
    "            classCount[vote] = 0\n",
    "        classCount[vote] += 1\n",
    "    sortedClassCount = sorted(classCount.items(), key=lambda item: item[1],reverse=True)\n",
    "    return sortedClassCount[0][0]\n",
    "majorityCnt(['setosa','setosa','setosa','virginica'])"
   ]
  },
  {
   "cell_type": "code",
   "execution_count": 24,
   "id": "3c3a2c21-03c0-47ea-ab69-30fd43965390",
   "metadata": {},
   "outputs": [],
   "source": [
    "def createTree(dataset, labels) :\n",
    "    classList = [example[-1] for example in dataSet]\n",
    "    if classList.count(classList[0]) == len(classList):\n",
    "        return classList[0]\n",
    "    if len(dataSet[0]) == 1:\n",
    "        return majorityCnt(classList)\n",
    "    bestFeat = bestFeaturetoSplit(dataSet)\n",
    "    bestFeatLabel = labels[bestFeat]\n",
    "    print(bestFeatLabel)\n",
    "    \n",
    "    myTree = {bestFeatLabel:{}}\n",
    "    \n",
    "    del(labels[bestFeat])\n",
    "    featValues = [example[bestFeat] for example in dataSet]\n",
    "    uniqueVals = set(featValues)\n",
    "    for value in uniqueVals:\n",
    "        subLabels = labels.copy()\n",
    "        myTree[bestFeatLabel][value] = createTree(splitDataSet(dataSet,bestFeat, value),subLabels)\n",
    "    return myTree"
   ]
  },
  {
   "cell_type": "code",
   "execution_count": 25,
   "id": "db3aa9c2-1ef5-4804-bcf3-c4d0d7d191ab",
   "metadata": {},
   "outputs": [
    {
     "name": "stdout",
     "output_type": "stream",
     "text": [
      "sepal_width\n",
      "petal_length\n",
      "petal_width\n"
     ]
    },
    {
     "ename": "IndexError",
     "evalue": "list index out of range",
     "output_type": "error",
     "traceback": [
      "\u001B[1;31m---------------------------------------------------------------------------\u001B[0m",
      "\u001B[1;31mIndexError\u001B[0m                                Traceback (most recent call last)",
      "Cell \u001B[1;32mIn[25], line 2\u001B[0m\n\u001B[0;32m      1\u001B[0m dataSet, labels\u001B[38;5;241m=\u001B[39mcreateDataSet()\n\u001B[1;32m----> 2\u001B[0m tr\u001B[38;5;241m=\u001B[39m\u001B[43mcreateTree\u001B[49m\u001B[43m(\u001B[49m\u001B[43mdataSet\u001B[49m\u001B[43m,\u001B[49m\u001B[43m \u001B[49m\u001B[43mlabels\u001B[49m\u001B[43m)\u001B[49m\n\u001B[0;32m      3\u001B[0m \u001B[38;5;28mprint\u001B[39m(tr)\n",
      "Cell \u001B[1;32mIn[24], line 18\u001B[0m, in \u001B[0;36mcreateTree\u001B[1;34m(dataset, labels)\u001B[0m\n\u001B[0;32m     16\u001B[0m \u001B[38;5;28;01mfor\u001B[39;00m value \u001B[38;5;129;01min\u001B[39;00m uniqueVals:\n\u001B[0;32m     17\u001B[0m     subLabels \u001B[38;5;241m=\u001B[39m labels\u001B[38;5;241m.\u001B[39mcopy()\n\u001B[1;32m---> 18\u001B[0m     myTree[bestFeatLabel][value] \u001B[38;5;241m=\u001B[39m \u001B[43mcreateTree\u001B[49m\u001B[43m(\u001B[49m\u001B[43msplitDataSet\u001B[49m\u001B[43m(\u001B[49m\u001B[43mdataSet\u001B[49m\u001B[43m,\u001B[49m\u001B[43mbestFeat\u001B[49m\u001B[43m,\u001B[49m\u001B[43m \u001B[49m\u001B[43mvalue\u001B[49m\u001B[43m)\u001B[49m\u001B[43m,\u001B[49m\u001B[43msubLabels\u001B[49m\u001B[43m)\u001B[49m\n\u001B[0;32m     19\u001B[0m \u001B[38;5;28;01mreturn\u001B[39;00m myTree\n",
      "Cell \u001B[1;32mIn[24], line 18\u001B[0m, in \u001B[0;36mcreateTree\u001B[1;34m(dataset, labels)\u001B[0m\n\u001B[0;32m     16\u001B[0m \u001B[38;5;28;01mfor\u001B[39;00m value \u001B[38;5;129;01min\u001B[39;00m uniqueVals:\n\u001B[0;32m     17\u001B[0m     subLabels \u001B[38;5;241m=\u001B[39m labels\u001B[38;5;241m.\u001B[39mcopy()\n\u001B[1;32m---> 18\u001B[0m     myTree[bestFeatLabel][value] \u001B[38;5;241m=\u001B[39m \u001B[43mcreateTree\u001B[49m\u001B[43m(\u001B[49m\u001B[43msplitDataSet\u001B[49m\u001B[43m(\u001B[49m\u001B[43mdataSet\u001B[49m\u001B[43m,\u001B[49m\u001B[43mbestFeat\u001B[49m\u001B[43m,\u001B[49m\u001B[43m \u001B[49m\u001B[43mvalue\u001B[49m\u001B[43m)\u001B[49m\u001B[43m,\u001B[49m\u001B[43msubLabels\u001B[49m\u001B[43m)\u001B[49m\n\u001B[0;32m     19\u001B[0m \u001B[38;5;28;01mreturn\u001B[39;00m myTree\n",
      "Cell \u001B[1;32mIn[24], line 18\u001B[0m, in \u001B[0;36mcreateTree\u001B[1;34m(dataset, labels)\u001B[0m\n\u001B[0;32m     16\u001B[0m \u001B[38;5;28;01mfor\u001B[39;00m value \u001B[38;5;129;01min\u001B[39;00m uniqueVals:\n\u001B[0;32m     17\u001B[0m     subLabels \u001B[38;5;241m=\u001B[39m labels\u001B[38;5;241m.\u001B[39mcopy()\n\u001B[1;32m---> 18\u001B[0m     myTree[bestFeatLabel][value] \u001B[38;5;241m=\u001B[39m \u001B[43mcreateTree\u001B[49m\u001B[43m(\u001B[49m\u001B[43msplitDataSet\u001B[49m\u001B[43m(\u001B[49m\u001B[43mdataSet\u001B[49m\u001B[43m,\u001B[49m\u001B[43mbestFeat\u001B[49m\u001B[43m,\u001B[49m\u001B[43m \u001B[49m\u001B[43mvalue\u001B[49m\u001B[43m)\u001B[49m\u001B[43m,\u001B[49m\u001B[43msubLabels\u001B[49m\u001B[43m)\u001B[49m\n\u001B[0;32m     19\u001B[0m \u001B[38;5;28;01mreturn\u001B[39;00m myTree\n",
      "Cell \u001B[1;32mIn[24], line 8\u001B[0m, in \u001B[0;36mcreateTree\u001B[1;34m(dataset, labels)\u001B[0m\n\u001B[0;32m      6\u001B[0m     \u001B[38;5;28;01mreturn\u001B[39;00m majorityCnt(classList)\n\u001B[0;32m      7\u001B[0m bestFeat \u001B[38;5;241m=\u001B[39m bestFeaturetoSplit(dataSet)\n\u001B[1;32m----> 8\u001B[0m bestFeatLabel \u001B[38;5;241m=\u001B[39m \u001B[43mlabels\u001B[49m\u001B[43m[\u001B[49m\u001B[43mbestFeat\u001B[49m\u001B[43m]\u001B[49m\n\u001B[0;32m      9\u001B[0m \u001B[38;5;28mprint\u001B[39m(bestFeatLabel)\n\u001B[0;32m     11\u001B[0m myTree \u001B[38;5;241m=\u001B[39m {bestFeatLabel:{}}\n",
      "\u001B[1;31mIndexError\u001B[0m: list index out of range"
     ]
    }
   ],
   "source": [
    "dataSet, labels=createDataSet()\n",
    "tr=createTree(dataSet, labels)\n",
    "print(tr)"
   ]
  },
  {
   "cell_type": "code",
   "execution_count": null,
   "id": "e0bb98a2-2144-42d2-a1b4-f0733f1cce55",
   "metadata": {},
   "outputs": [],
   "source": []
  }
 ],
 "metadata": {
  "kernelspec": {
   "display_name": "Python 3 (ipykernel)",
   "language": "python",
   "name": "python3"
  },
  "language_info": {
   "codemirror_mode": {
    "name": "ipython",
    "version": 3
   },
   "file_extension": ".py",
   "mimetype": "text/x-python",
   "name": "python",
   "nbconvert_exporter": "python",
   "pygments_lexer": "ipython3",
   "version": "3.12.0"
  }
 },
 "nbformat": 4,
 "nbformat_minor": 5
}
